{
 "cells": [
  {
   "cell_type": "markdown",
   "metadata": {},
   "source": [
    "Given a non-empty array of integers, return the result of multiplying the values together in order. Example:\n",
    "\n",
    "[1, 2, 3, 4] => 1 * 2 * 3 * 4 = 24"
   ]
  },
  {
   "cell_type": "code",
   "execution_count": 2,
   "metadata": {},
   "outputs": [
    {
     "name": "stdout",
     "output_type": "stream",
     "text": [
      "solution 1: 24\n",
      "solution 2: 24\n"
     ]
    }
   ],
   "source": [
    "# sample array\n",
    "ran_list = [1, 2, 3, 4]\n",
    "\n",
    "#  solution1\n",
    "def grow(arr):\n",
    "    sol = arr[0]\n",
    "    for i in range(1,len(arr)):\n",
    "        sol *= arr[i]\n",
    "\n",
    "    return sol\n",
    "\n",
    "print(f'solution 1: {grow(ran_list)}')\n",
    "\n",
    "\n",
    "#  solution2\n",
    "from functools import reduce\n",
    "\n",
    "def grow2(arr):\n",
    "    return reduce(lambda x, y: x * y, arr)\n",
    "\n",
    "print(f'solution 2: {grow2(ran_list)}')"
   ]
  },
  {
   "cell_type": "markdown",
   "metadata": {},
   "source": [
    "We need a function that can transform a number (integer) into a string.\n",
    "\n",
    "What ways of achieving this do you know?\n",
    "\n",
    "Examples (input --> output):\n",
    "\n",
    "123  --> \"123\"\n",
    "999  --> \"999\"\n",
    "-100 --> \"-100\""
   ]
  },
  {
   "cell_type": "code",
   "execution_count": 4,
   "metadata": {},
   "outputs": [
    {
     "name": "stdout",
     "output_type": "stream",
     "text": [
      "Solution 1: 123 which is datatype <class 'str'>\n",
      "Solution 2: 123 which is datatype <class 'str'>\n"
     ]
    }
   ],
   "source": [
    "# sample integer\n",
    "value = 123\n",
    "\n",
    "# Solution 1\n",
    "def number_to_string(num):\n",
    "    return str(num)\n",
    "\n",
    "print(f'Solution 1: {number_to_string(value)} which is datatype {type(number_to_string(value))}')\n",
    "\n",
    "# Solution 2\n",
    "def number_to_string2(num):\n",
    "    return f'{num}'\n",
    "\n",
    "print(f'Solution 2: {number_to_string2(value)} which is datatype {type(number_to_string2(value))}')\n",
    "\n"
   ]
  },
  {
   "cell_type": "markdown",
   "metadata": {},
   "source": [
    "Complete the method that takes a boolean value and return a \"Yes\" string for true, or a \"No\" string for false."
   ]
  },
  {
   "cell_type": "code",
   "execution_count": 5,
   "metadata": {},
   "outputs": [
    {
     "name": "stdout",
     "output_type": "stream",
     "text": [
      "solution for true: Yes\n",
      "solution for false: No\n"
     ]
    }
   ],
   "source": [
    "def bool_to_word(boolean):\n",
    "    return \"Yes\" if boolean else \"No\"\n",
    "\n",
    "print(f'solution for true: {bool_to_word(True)}')\n",
    "print(f'solution for false: {bool_to_word(False)}')"
   ]
  },
  {
   "cell_type": "markdown",
   "metadata": {},
   "source": [
    "Make a function that will return a greeting statement that uses an input; your program should return, \"Hello, <name> how are you doing today?\"."
   ]
  },
  {
   "cell_type": "code",
   "execution_count": 7,
   "metadata": {},
   "outputs": [
    {
     "data": {
      "text/plain": [
       "'Hello, Someone how are you doing today?'"
      ]
     },
     "execution_count": 7,
     "metadata": {},
     "output_type": "execute_result"
    }
   ],
   "source": [
    "def greet(name):\n",
    "    return f'Hello, {name} how are you doing today?'\n",
    "\n",
    "greet('Someone')"
   ]
  },
  {
   "cell_type": "markdown",
   "metadata": {},
   "source": [
    "Given an array of integers as strings and numbers, return the sum of the array values as if all were numbers.\n",
    "\n",
    "Return your answer as a number.\n",
    "\n",
    "['5', '0', 9, 3, 2, 1, '9', 6, 7] => 42"
   ]
  },
  {
   "cell_type": "code",
   "execution_count": 12,
   "metadata": {},
   "outputs": [
    {
     "name": "stdout",
     "output_type": "stream",
     "text": [
      "Solution 1: 42\n",
      "Solution 2: 42\n"
     ]
    }
   ],
   "source": [
    "# sample array\n",
    "ran_arr = ['5', '0', 9, 3, 2, 1, '9', 6, 7]\n",
    "\n",
    "# solution 1\n",
    "def sum_mix(arr):\n",
    "    sol = 0\n",
    "    try:\n",
    "        for i in arr:\n",
    "            sol += int(i)\n",
    "        return sol\n",
    "    except:\n",
    "        return \"Elements should be numerical values\"\n",
    "\n",
    "print(f'Solution 1: {sum_mix(ran_arr)}')\n",
    "\n",
    "# solution 2\n",
    "def sum_mix2(arr):\n",
    "    return sum(map(int, arr))\n",
    "\n",
    "print(f'Solution 2: {sum_mix2(ran_arr)}')"
   ]
  }
 ],
 "metadata": {
  "kernelspec": {
   "display_name": "Python 3",
   "language": "python",
   "name": "python3"
  },
  "language_info": {
   "codemirror_mode": {
    "name": "ipython",
    "version": 3
   },
   "file_extension": ".py",
   "mimetype": "text/x-python",
   "name": "python",
   "nbconvert_exporter": "python",
   "pygments_lexer": "ipython3",
   "version": "3.9.6"
  },
  "orig_nbformat": 4
 },
 "nbformat": 4,
 "nbformat_minor": 2
}
