{
 "cells": [
  {
   "cell_type": "markdown",
   "metadata": {},
   "source": [
    "Given a non-empty array of integers, return the result of multiplying the values together in order. Example:\n",
    "\n",
    "[1, 2, 3, 4] => 1 * 2 * 3 * 4 = 24"
   ]
  },
  {
   "cell_type": "code",
   "execution_count": 2,
   "metadata": {},
   "outputs": [
    {
     "name": "stdout",
     "output_type": "stream",
     "text": [
      "solution 1: 24\n",
      "solution 2: 24\n"
     ]
    }
   ],
   "source": [
    "# sample array\n",
    "ran_list = [1, 2, 3, 4]\n",
    "\n",
    "#  solution1\n",
    "def grow(arr):\n",
    "    sol = arr[0]\n",
    "    for i in range(1,len(arr)):\n",
    "        sol *= arr[i]\n",
    "\n",
    "    return sol\n",
    "\n",
    "print(f'solution 1: {grow(ran_list)}')\n",
    "\n",
    "\n",
    "#  solution2\n",
    "from functools import reduce\n",
    "\n",
    "def grow2(arr):\n",
    "    return reduce(lambda x, y: x * y, arr)\n",
    "\n",
    "print(f'solution 2: {grow2(ran_list)}')"
   ]
  },
  {
   "cell_type": "markdown",
   "metadata": {},
   "source": [
    "We need a function that can transform a number (integer) into a string.\n",
    "\n",
    "What ways of achieving this do you know?\n",
    "\n",
    "Examples (input --> output):\n",
    "\n",
    "123  --> \"123\"\n",
    "999  --> \"999\"\n",
    "-100 --> \"-100\""
   ]
  },
  {
   "cell_type": "code",
   "execution_count": 4,
   "metadata": {},
   "outputs": [
    {
     "name": "stdout",
     "output_type": "stream",
     "text": [
      "Solution 1: 123 which is datatype <class 'str'>\n",
      "Solution 2: 123 which is datatype <class 'str'>\n"
     ]
    }
   ],
   "source": [
    "# sample integer\n",
    "value = 123\n",
    "\n",
    "# Solution 1\n",
    "def number_to_string(num):\n",
    "    return str(num)\n",
    "\n",
    "print(f'Solution 1: {number_to_string(value)} which is datatype {type(number_to_string(value))}')\n",
    "\n",
    "# Solution 2\n",
    "def number_to_string2(num):\n",
    "    return f'{num}'\n",
    "\n",
    "print(f'Solution 2: {number_to_string2(value)} which is datatype {type(number_to_string2(value))}')\n",
    "\n"
   ]
  },
  {
   "cell_type": "markdown",
   "metadata": {},
   "source": [
    "Complete the method that takes a boolean value and return a \"Yes\" string for true, or a \"No\" string for false."
   ]
  },
  {
   "cell_type": "code",
   "execution_count": 5,
   "metadata": {},
   "outputs": [
    {
     "name": "stdout",
     "output_type": "stream",
     "text": [
      "solution for true: Yes\n",
      "solution for false: No\n"
     ]
    }
   ],
   "source": [
    "def bool_to_word(boolean):\n",
    "    return \"Yes\" if boolean else \"No\"\n",
    "\n",
    "print(f'solution for true: {bool_to_word(True)}')\n",
    "print(f'solution for false: {bool_to_word(False)}')"
   ]
  },
  {
   "cell_type": "markdown",
   "metadata": {},
   "source": [
    "Make a function that will return a greeting statement that uses an input; your program should return, \"Hello, <name> how are you doing today?\"."
   ]
  },
  {
   "cell_type": "code",
   "execution_count": 7,
   "metadata": {},
   "outputs": [
    {
     "data": {
      "text/plain": [
       "'Hello, Someone how are you doing today?'"
      ]
     },
     "execution_count": 7,
     "metadata": {},
     "output_type": "execute_result"
    }
   ],
   "source": [
    "def greet(name):\n",
    "    return f'Hello, {name} how are you doing today?'\n",
    "\n",
    "greet('Someone')"
   ]
  },
  {
   "cell_type": "markdown",
   "metadata": {},
   "source": [
    "Given an array of integers as strings and numbers, return the sum of the array values as if all were numbers.\n",
    "\n",
    "Return your answer as a number.\n",
    "\n",
    "['5', '0', 9, 3, 2, 1, '9', 6, 7] => 42"
   ]
  },
  {
   "cell_type": "code",
   "execution_count": 12,
   "metadata": {},
   "outputs": [
    {
     "name": "stdout",
     "output_type": "stream",
     "text": [
      "Solution 1: 42\n",
      "Solution 2: 42\n"
     ]
    }
   ],
   "source": [
    "# sample array\n",
    "ran_arr = ['5', '0', 9, 3, 2, 1, '9', 6, 7]\n",
    "\n",
    "# solution 1\n",
    "def sum_mix(arr):\n",
    "    sol = 0\n",
    "    try:\n",
    "        for i in arr:\n",
    "            sol += int(i)\n",
    "        return sol\n",
    "    except:\n",
    "        return \"Elements should be numerical values\"\n",
    "\n",
    "print(f'Solution 1: {sum_mix(ran_arr)}')\n",
    "\n",
    "# solution 2\n",
    "def sum_mix2(arr):\n",
    "    return sum(map(int, arr))\n",
    "\n",
    "print(f'Solution 2: {sum_mix2(ran_arr)}')"
   ]
  },
  {
   "cell_type": "markdown",
   "metadata": {},
   "source": [
    "In this kata you will create a function that takes a list of non-negative integers and strings and returns a new list with the strings filtered out.\n",
    "\n",
    "Example\n",
    "\n",
    "filter_list([1,2,'a','b']) == [1,2]\n",
    "filter_list([1,'a','b',0,15]) == [1,0,15]\n",
    "filter_list([1,2,'aasf','1','123',123]) == [1,2,123]"
   ]
  },
  {
   "cell_type": "code",
   "execution_count": 2,
   "metadata": {},
   "outputs": [
    {
     "name": "stdout",
     "output_type": "stream",
     "text": [
      "Solution 1: [1, 2]\n",
      "Solution 2: [1, 2]\n"
     ]
    }
   ],
   "source": [
    "def filter_list(l):\n",
    "    return list(filter(lambda x: isinstance(x, int), l))\n",
    "\n",
    "# solution 1\n",
    "print(f'Solution 1: {filter_list([1,2,\"a\",\"b\"])}')\n",
    "\n",
    "\n",
    "def filter_list2(l):\n",
    "    return list(filter(lambda x: type(x) == int, l))\n",
    "\n",
    "# solution 2\n",
    "print(f'Solution 2: {filter_list2([1,2,\"a\",\"b\"])}')"
   ]
  },
  {
   "cell_type": "markdown",
   "metadata": {},
   "source": [
    "Write a function that takes an array of numbers and returns the sum of the numbers. The numbers can be negative or non-integer. If the array does not contain any numbers then you should return 0.\n",
    "\n",
    "Examples\n",
    "\n",
    "Input: [1, 5.2, 4, 0, -1]\n",
    "Output: 9.2\n",
    "\n",
    "Input: []\n",
    "Output: 0\n",
    "\n",
    "Input: [-2.398]\n",
    "Output: -2.398\n",
    "\n",
    "Assumptions\n",
    "\n",
    "You can assume that you are only given numbers.\n",
    "You cannot assume the size of the array.\n",
    "You can assume that you do get an array and if the array is empty, return 0."
   ]
  },
  {
   "cell_type": "code",
   "execution_count": 4,
   "metadata": {},
   "outputs": [
    {
     "name": "stdout",
     "output_type": "stream",
     "text": [
      "Solution 1: 10.6\n",
      "Solution 2: 10.6\n"
     ]
    }
   ],
   "source": [
    "#solution 1\n",
    "def sum_array(a):\n",
    "    sol = 0\n",
    "    \n",
    "    if len(a) == 0:\n",
    "        return sol\n",
    "    \n",
    "    for num in a:\n",
    "        sol += num\n",
    "        \n",
    "    return sol\n",
    "\n",
    "\n",
    "# solution1\n",
    "print(f'Solution 1: {sum_array([1.1, 2.2, 3.3, 4])}')\n",
    "\n",
    "#solution 2\n",
    "def sum_array2(a):\n",
    "    if len(a) == 0:\n",
    "        return 0\n",
    "\n",
    "    return sum(a, 0)\n",
    "\n",
    "# solution2\n",
    "print(f'Solution 2: {sum_array2([1.1, 2.2, 3.3, 4])}')\n"
   ]
  },
  {
   "cell_type": "markdown",
   "metadata": {},
   "source": [
    "In DNA strings, symbols \"A\" and \"T\" are complements of each other, as \"C\" and \"G\". Your function receives one side of the DNA (string, except for Haskell); you need to return the other complementary side. DNA strand is never empty or there is no DNA at all (again, except for Haskell).\n",
    "\n",
    "More similar exercise are found here: http://rosalind.info/problems/list-view/ (source)\n",
    "\n",
    "Example: (input --> output)\n",
    "\n",
    "\"ATTGC\" --> \"TAACG\"\n",
    "\"GTAT\" --> \"CATA\""
   ]
  },
  {
   "cell_type": "code",
   "execution_count": null,
   "metadata": {},
   "outputs": [],
   "source": [
    "#solution 1\n",
    "def DNA_strand(x):\n",
    "    complement = \"\"\n",
    "    for letter in x:\n",
    "        if letter == \"A\":\n",
    "            complement += \"T\"\n",
    "        elif letter == \"T\":\n",
    "            complement += \"A\"\n",
    "        elif letter == \"C\":\n",
    "            complement += \"G\"\n",
    "        elif letter == \"G\":\n",
    "            complement += \"C\"\n",
    "    return complement\n",
    "\n",
    "# solution1\n",
    "print(f'Solution 1: {DNA_strand(\"ATTGC\")}')\n",
    "\n",
    "\n",
    "#solution 2\n",
    "def DNA_strand2(x):\n",
    "    complement = \"\"\n",
    "    for letter in x:\n",
    "        if letter == \"A\":\n",
    "            complement += \"T\"\n",
    "        elif letter == \"T\":\n",
    "            complement += \"A\"\n",
    "        elif letter == \"C\":\n",
    "            complement += \"G\"\n",
    "        elif letter == \"G\":\n",
    "            complement += \"C\"\n",
    "    return complement\n",
    "\n",
    "# solution2\n",
    "print(f'Solution 2: {DNA_strand2(\"ATTGC\")}')\n"
   ]
  }
 ],
 "metadata": {
  "kernelspec": {
   "display_name": "Python 3",
   "language": "python",
   "name": "python3"
  },
  "language_info": {
   "codemirror_mode": {
    "name": "ipython",
    "version": 3
   },
   "file_extension": ".py",
   "mimetype": "text/x-python",
   "name": "python",
   "nbconvert_exporter": "python",
   "pygments_lexer": "ipython3",
   "version": "3.9.6"
  },
  "orig_nbformat": 4
 },
 "nbformat": 4,
 "nbformat_minor": 2
}
